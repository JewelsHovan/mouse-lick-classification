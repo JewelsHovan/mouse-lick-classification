{
 "cells": [
  {
   "cell_type": "code",
   "execution_count": 11,
   "metadata": {},
   "outputs": [
    {
     "name": "stdout",
     "output_type": "stream",
     "text": [
      "/home/jhovan\n"
     ]
    }
   ],
   "source": []
  },
  {
   "cell_type": "code",
   "execution_count": 19,
   "metadata": {},
   "outputs": [
    {
     "name": "stdout",
     "output_type": "stream",
     "text": [
      "Data\n",
      "Untitled.ipynb\n",
      "__pycache__\n",
      "backup_gentleboost.py\n",
      "build\n",
      "cython_utils.c\n",
      "cython_utils.cpython-310-darwin.so\n",
      "cython_utils.pyx\n",
      "decisionstump.py\n",
      "find_best_split.c\n",
      "find_best_split.cpp\n",
      "find_best_split.cpython-310-darwin.so\n",
      "find_best_split.pyx\n",
      "gentleboost.py\n",
      "progress.md\n",
      "readme.md\n",
      "setup.py\n",
      "utils.py\n"
     ]
    }
   ],
   "source": [
    "%%bash\n",
    "cd Documents/mouse-lick-classifier\n",
    "ls\n"
   ]
  },
  {
   "cell_type": "code",
   "execution_count": 7,
   "metadata": {},
   "outputs": [
    {
     "name": "stdout",
     "output_type": "stream",
     "text": [
      "2.3.1+cu121\n",
      "True\n"
     ]
    }
   ],
   "source": [
    "import torch\n",
    "import os\n",
    "\n",
    "print(torch.__version__)\n",
    "\n",
    "print(torch.cuda.is_available())"
   ]
  },
  {
   "cell_type": "code",
   "execution_count": null,
   "metadata": {},
   "outputs": [],
   "source": []
  }
 ],
 "metadata": {
  "kernelspec": {
   "display_name": "Python 3 (ipykernel)",
   "language": "python",
   "name": "python3"
  },
  "language_info": {
   "codemirror_mode": {
    "name": "ipython",
    "version": 3
   },
   "file_extension": ".py",
   "mimetype": "text/x-python",
   "name": "python",
   "nbconvert_exporter": "python",
   "pygments_lexer": "ipython3",
   "version": "3.10.12"
  }
 },
 "nbformat": 4,
 "nbformat_minor": 2
}
