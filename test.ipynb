{
 "cells": [
  {
   "cell_type": "markdown",
   "metadata": {},
   "source": [
    "# Exploring the Data and Models\n",
    "\n",
    "The paper:\n",
    "`Machine learning-based automatedphenotyping of inflammatory nocifensivebehavior in mice`\n",
    "\n",
    "In this notebook we attempt to explore the data and its structure.\n",
    "\n",
    "Afterwards we will train our own classfiiers and compare their perofrmance to the one used in the paper."
   ]
  },
  {
   "cell_type": "markdown",
   "metadata": {},
   "source": [
    "## Setup"
   ]
  },
  {
   "cell_type": "code",
   "execution_count": 2,
   "metadata": {},
   "outputs": [],
   "source": [
    "import scipy.io\n",
    "import pandas as pd\n",
    "import numpy as np\n",
    "import os\n",
    "import h5py\n",
    "import re\n",
    "from datetime import datetime\n",
    "from collections import defaultdict\n",
    "\n",
    "\n",
    "# set the paths for data\n",
    "data_folder = os.path.join(os.getcwd(), 'Data')\n",
    "deeplabcut_folder = os.path.join(data_folder, 'DeepLabCut')\n",
    "gentleboost_folder = os.path.join(data_folder, 'GentleBoost')"
   ]
  },
  {
   "cell_type": "markdown",
   "metadata": {},
   "source": [
    "## Exploring the Gentle Boost Classifier Data"
   ]
  },
  {
   "cell_type": "markdown",
   "metadata": {},
   "source": [
    "### Looking at the trainedModelclassifier.mat\n",
    "\n",
    "The `trainedModelclassifier.mat` represents the Matlab structure of the GentleBoost classifier.\n"
   ]
  },
  {
   "cell_type": "code",
   "execution_count": 5,
   "metadata": {},
   "outputs": [
    {
     "name": "stdout",
     "output_type": "stream",
     "text": [
      "dict_keys(['__header__', '__version__', '__globals__', 'trainedModelclassifier', '__function_workspace__'])\n"
     ]
    }
   ],
   "source": [
    "mat = scipy.io.loadmat(os.path.join(gentleboost_folder, 'trainedModelclassifier.mat'))\n",
    "\n",
    "print(mat.keys())"
   ]
  },
  {
   "cell_type": "code",
   "execution_count": 6,
   "metadata": {},
   "outputs": [
    {
     "data": {
      "text/plain": [
       "array([[(MatlabFunction([[(array(['C:\\\\Program Files\\\\MATLAB\\\\R2019a'], dtype='<U30'), array(['\\\\'], dtype='<U1'), array(['@'], dtype='<U1'), array([[(array(['sf%0@(x)exportableModel.predictFcn(predictorExtractionFcn(x))'],\n",
       "                                       dtype='<U61'), array(['anonymous'], dtype='<U9'), array(['C:\\\\Program Files\\\\MATLAB\\\\R2019a\\\\toolbox\\\\stats\\\\mlearnapp\\\\+mlearnapp\\\\+internal\\\\+model\\\\DatasetSpecification.m'],\n",
       "                                       dtype='<U105'), MatlabOpaque([(b'', b'MCOS', b'function_handle_workspace', array([[3707764736],\n",
       "                                                      [         2],\n",
       "                                                      [         1],\n",
       "                                                      [         1],\n",
       "                                                      [         1],\n",
       "                                                      [         1]], dtype=uint32))                             ],\n",
       "                                              dtype=[('s0', 'O'), ('s1', 'O'), ('s2', 'O'), ('arr', 'O')]), array(['DatasetSpecification'], dtype='<U20'))                                                             ]],\n",
       "                               dtype=[('function', 'O'), ('type', 'O'), ('file', 'O'), ('workspace', 'O'), ('within_file_path', 'O')]))                                                                                       ]],\n",
       "                       dtype=[('matlabroot', 'O'), ('separator', 'O'), ('sentinel', 'O'), ('function_handle', 'O')]), MatlabOpaque([(b'', b'MCOS', b'classreg.learning.classif.ClassificationEnsemble', array([[3707764736],\n",
       "                             [         2],\n",
       "                             [         1],\n",
       "                             [         1],\n",
       "                             [       342],\n",
       "                             [        14]], dtype=uint32))                                                    ],\n",
       "                     dtype=[('s0', 'O'), ('s1', 'O'), ('s2', 'O'), ('arr', 'O')]), array(['This struct is a trained model exported from Classification Learner R2017b.'],\n",
       "              dtype='<U75'), array(['To make predictions on a new predictor column matrix, X, use: \\n  yfit = c.predictFcn(X) \\nreplacing \\'c\\' with the name of the variable that is this struct, e.g. \\'trainedModel\\'. \\n \\nX must contain exactly 1047 columns because this model was trained using 1047 predictors. \\nX must contain only predictor columns in exactly the same order and format as your training \\ndata. Do not include the response column or any columns you did not import into the app. \\n \\nFor more information, see <a href=\"matlab:helpview(fullfile(docroot, \\'stats\\', \\'stats.map\\'), \\'appclassification_exportmodeltoworkspace\\')\">How to predict using an exported model</a>.'],\n",
       "              dtype='<U634'))                                                                                                                                                                                                                                                                                                                                                                                                                                                                                                                                                                                                                                                                                       ]],\n",
       "      dtype=[('predictFcn', 'O'), ('ClassificationEnsemble', 'O'), ('About', 'O'), ('HowToPredict', 'O')])"
      ]
     },
     "metadata": {},
     "output_type": "display_data"
    }
   ],
   "source": [
    "model = mat['trainedModelclassifier']\n",
    "display(model)"
   ]
  },
  {
   "cell_type": "code",
   "execution_count": 7,
   "metadata": {},
   "outputs": [
    {
     "name": "stdout",
     "output_type": "stream",
     "text": [
      "Model structure:\n",
      "<class 'numpy.ndarray'>\n",
      "[('predictFcn', 'O'), ('ClassificationEnsemble', 'O'), ('About', 'O'), ('HowToPredict', 'O')]\n",
      "\n",
      "Field: predictFcn\n",
      "[[(array(['C:\\\\Program Files\\\\MATLAB\\\\R2019a'], dtype='<U30'), array(['\\\\'], dtype='<U1'), array(['@'], dtype='<U1'), array([[(array(['sf%0@(x)exportableModel.predictFcn(predictorExtractionFcn(x))'],\n",
      "                dtype='<U61'), array(['anonymous'], dtype='<U9'), array(['C:\\\\Program Files\\\\MATLAB\\\\R2019a\\\\toolbox\\\\stats\\\\mlearnapp\\\\+mlearnapp\\\\+internal\\\\+model\\\\DatasetSpecification.m'],\n",
      "                dtype='<U105'), MatlabOpaque([(b'', b'MCOS', b'function_handle_workspace', array([[3707764736],\n",
      "                               [         2],\n",
      "                               [         1],\n",
      "                               [         1],\n",
      "                               [         1],\n",
      "                               [         1]], dtype=uint32))                             ],\n",
      "                       dtype=[('s0', 'O'), ('s1', 'O'), ('s2', 'O'), ('arr', 'O')]), array(['DatasetSpecification'], dtype='<U20'))                                                             ]],\n",
      "        dtype=[('function', 'O'), ('type', 'O'), ('file', 'O'), ('workspace', 'O'), ('within_file_path', 'O')]))                                                                                       ]]\n",
      "\n",
      "Field: ClassificationEnsemble\n",
      "[(b'', b'MCOS', b'classreg.learning.classif.ClassificationEnsemble', array([[3707764736],\n",
      "        [         2],\n",
      "        [         1],\n",
      "        [         1],\n",
      "        [       342],\n",
      "        [        14]], dtype=uint32))                                                    ]\n",
      "\n",
      "Field: About\n",
      "['This struct is a trained model exported from Classification Learner R2017b.']\n",
      "\n",
      "Field: HowToPredict\n",
      "['To make predictions on a new predictor column matrix, X, use: \\n  yfit = c.predictFcn(X) \\nreplacing \\'c\\' with the name of the variable that is this struct, e.g. \\'trainedModel\\'. \\n \\nX must contain exactly 1047 columns because this model was trained using 1047 predictors. \\nX must contain only predictor columns in exactly the same order and format as your training \\ndata. Do not include the response column or any columns you did not import into the app. \\n \\nFor more information, see <a href=\"matlab:helpview(fullfile(docroot, \\'stats\\', \\'stats.map\\'), \\'appclassification_exportmodeltoworkspace\\')\">How to predict using an exported model</a>.']\n"
     ]
    }
   ],
   "source": [
    "# Print the structure to understand what's inside\n",
    "print(\"Model structure:\")\n",
    "print(type(model))\n",
    "print(model.dtype)  # This will show the fields available in the structure\n",
    "\n",
    "# You can access different components like this:\n",
    "# If it's a MATLAB struct, it will have named fields\n",
    "for field_name in model.dtype.names:\n",
    "    print(f\"\\nField: {field_name}\")\n",
    "    print(model[field_name][0, 0])  # MATLAB structs are usually accessed this way"
   ]
  },
  {
   "cell_type": "markdown",
   "metadata": {},
   "source": [
    "Details to note:\n",
    "\n",
    "- This is a MATLAB Classification Ensemble model (gentleBoost) exported form MATLAB's Classification Learner app\n",
    "\n",
    "1. IT expects 1047 features as input (predictors)\n",
    "2. It's stored as a MATLAB object with specific internal structures"
   ]
  },
  {
   "cell_type": "code",
   "execution_count": 8,
   "metadata": {},
   "outputs": [
    {
     "name": "stdout",
     "output_type": "stream",
     "text": [
      "Ensemble attributes:\n",
      "T: [(b'', b'MCOS', b'classreg.learning.classif.ClassificationEnsemble', array([[3707764736],\n",
      "        [         2],\n",
      "        [         1],\n",
      "        [         1],\n",
      "        [       342],\n",
      "        [        14]], dtype=uint32))                                                    ]\n",
      "all: <built-in method all of MatlabOpaque object at 0x112c26040>\n",
      "any: <built-in method any of MatlabOpaque object at 0x112c26040>\n",
      "argmax: <built-in method argmax of MatlabOpaque object at 0x112c26040>\n",
      "argmin: <built-in method argmin of MatlabOpaque object at 0x112c26040>\n",
      "argpartition: <built-in method argpartition of MatlabOpaque object at 0x112c26040>\n",
      "argsort: <built-in method argsort of MatlabOpaque object at 0x112c26040>\n",
      "astype: <built-in method astype of MatlabOpaque object at 0x112c26040>\n",
      "base: [(b'', b'MCOS', b'classreg.learning.classif.ClassificationEnsemble', array([[3707764736],\n",
      "        [         2],\n",
      "        [         1],\n",
      "        [         1],\n",
      "        [       342],\n",
      "        [        14]], dtype=uint32))                                                    ]\n",
      "byteswap: <built-in method byteswap of MatlabOpaque object at 0x112c26040>\n",
      "choose: <built-in method choose of MatlabOpaque object at 0x112c26040>\n",
      "clip: <built-in method clip of MatlabOpaque object at 0x112c26040>\n",
      "compress: <built-in method compress of MatlabOpaque object at 0x112c26040>\n",
      "conj: <built-in method conj of MatlabOpaque object at 0x112c26040>\n",
      "conjugate: <built-in method conjugate of MatlabOpaque object at 0x112c26040>\n",
      "copy: <built-in method copy of MatlabOpaque object at 0x112c26040>\n",
      "ctypes: <numpy.core._internal._ctypes object at 0x112c0c580>\n",
      "cumprod: <built-in method cumprod of MatlabOpaque object at 0x112c26040>\n",
      "cumsum: <built-in method cumsum of MatlabOpaque object at 0x112c26040>\n",
      "data: <memory at 0x112bda640>\n",
      "diagonal: <built-in method diagonal of MatlabOpaque object at 0x112c26040>\n",
      "dot: <built-in method dot of MatlabOpaque object at 0x112c26040>\n",
      "dtype: [('s0', 'O'), ('s1', 'O'), ('s2', 'O'), ('arr', 'O')]\n",
      "dump: <built-in method dump of MatlabOpaque object at 0x112c26040>\n",
      "dumps: <built-in method dumps of MatlabOpaque object at 0x112c26040>\n",
      "fill: <built-in method fill of MatlabOpaque object at 0x112c26040>\n",
      "flags:   C_CONTIGUOUS : True\n",
      "  F_CONTIGUOUS : True\n",
      "  OWNDATA : False\n",
      "  WRITEABLE : True\n",
      "  ALIGNED : True\n",
      "  WRITEBACKIFCOPY : False\n",
      "  UPDATEIFCOPY : False\n",
      "\n",
      "flat: <numpy.flatiter object at 0x123196c00>\n",
      "flatten: <built-in method flatten of MatlabOpaque object at 0x112c26040>\n",
      "getfield: <built-in method getfield of MatlabOpaque object at 0x112c26040>\n",
      "imag: [(0, 0, 0, 0)]\n",
      "item: <built-in method item of MatlabOpaque object at 0x112c26040>\n",
      "itemset: <built-in method itemset of MatlabOpaque object at 0x112c26040>\n",
      "itemsize: 32\n",
      "max: <built-in method max of MatlabOpaque object at 0x112c26040>\n",
      "mean: <built-in method mean of MatlabOpaque object at 0x112c26040>\n",
      "min: <built-in method min of MatlabOpaque object at 0x112c26040>\n",
      "nbytes: 32\n",
      "ndim: 1\n",
      "newbyteorder: <built-in method newbyteorder of MatlabOpaque object at 0x112c26040>\n",
      "nonzero: <built-in method nonzero of MatlabOpaque object at 0x112c26040>\n",
      "partition: <built-in method partition of MatlabOpaque object at 0x112c26040>\n",
      "prod: <built-in method prod of MatlabOpaque object at 0x112c26040>\n",
      "ptp: <built-in method ptp of MatlabOpaque object at 0x112c26040>\n",
      "put: <built-in method put of MatlabOpaque object at 0x112c26040>\n",
      "ravel: <built-in method ravel of MatlabOpaque object at 0x112c26040>\n",
      "real: [(b'', b'MCOS', b'classreg.learning.classif.ClassificationEnsemble', array([[3707764736],\n",
      "        [         2],\n",
      "        [         1],\n",
      "        [         1],\n",
      "        [       342],\n",
      "        [        14]], dtype=uint32))                                                    ]\n",
      "repeat: <built-in method repeat of MatlabOpaque object at 0x112c26040>\n",
      "reshape: <built-in method reshape of MatlabOpaque object at 0x112c26040>\n",
      "resize: <built-in method resize of MatlabOpaque object at 0x112c26040>\n",
      "round: <built-in method round of MatlabOpaque object at 0x112c26040>\n",
      "searchsorted: <built-in method searchsorted of MatlabOpaque object at 0x112c26040>\n",
      "setfield: <built-in method setfield of MatlabOpaque object at 0x112c26040>\n",
      "setflags: <built-in method setflags of MatlabOpaque object at 0x112c26040>\n",
      "shape: (1,)\n",
      "size: 1\n",
      "sort: <built-in method sort of MatlabOpaque object at 0x112c26040>\n",
      "squeeze: <built-in method squeeze of MatlabOpaque object at 0x112c26040>\n",
      "std: <built-in method std of MatlabOpaque object at 0x112c26040>\n",
      "strides: (32,)\n",
      "sum: <built-in method sum of MatlabOpaque object at 0x112c26040>\n",
      "swapaxes: <built-in method swapaxes of MatlabOpaque object at 0x112c26040>\n",
      "take: <built-in method take of MatlabOpaque object at 0x112c26040>\n",
      "tobytes: <built-in method tobytes of MatlabOpaque object at 0x112c26040>\n",
      "tofile: <built-in method tofile of MatlabOpaque object at 0x112c26040>\n",
      "tolist: <built-in method tolist of MatlabOpaque object at 0x112c26040>\n",
      "tostring: <built-in method tostring of MatlabOpaque object at 0x112c26040>\n",
      "trace: <built-in method trace of MatlabOpaque object at 0x112c26040>\n",
      "transpose: <built-in method transpose of MatlabOpaque object at 0x112c26040>\n",
      "var: <built-in method var of MatlabOpaque object at 0x112c26040>\n",
      "view: <built-in method view of MatlabOpaque object at 0x112c26040>\n"
     ]
    }
   ],
   "source": [
    "# Try to access the ClassificationEnsemble object\n",
    "ensemble = model['ClassificationEnsemble'][0,0]\n",
    "\n",
    "# Let's try to see what's inside the ensemble\n",
    "print(\"Ensemble attributes:\")\n",
    "for attr in dir(ensemble):\n",
    "    if not attr.startswith('_'):  # Skip private attributes\n",
    "        try:\n",
    "            value = getattr(ensemble, attr)\n",
    "            print(f\"{attr}: {value}\")\n",
    "        except:\n",
    "            print(f\"Could not access {attr}\")"
   ]
  },
  {
   "cell_type": "markdown",
   "metadata": {},
   "source": [
    "### Examining training data"
   ]
  },
  {
   "cell_type": "code",
   "execution_count": 3,
   "metadata": {},
   "outputs": [
    {
     "name": "stdout",
     "output_type": "stream",
     "text": [
      "0\n",
      "40\n"
     ]
    }
   ],
   "source": [
    "train40_folder = os.path.join(gentleboost_folder, 'train40')\n",
    "training_labels_folder = os.path.join(gentleboost_folder, 'training_labels')\n",
    "\n",
    "# print lenghts of the folders\n",
    "print(len(os.listdir(train40_folder)))\n",
    "print(len(os.listdir(training_labels_folder)))\n"
   ]
  },
  {
   "cell_type": "markdown",
   "metadata": {},
   "source": [
    "### Data Manipulation - concatenating all the training data into one numpy array"
   ]
  },
  {
   "cell_type": "code",
   "execution_count": 10,
   "metadata": {},
   "outputs": [
    {
     "name": "stdout",
     "output_type": "stream",
     "text": [
      "Renamed 'Arena1-Run1 Tetrad 2 8_20_2018 9_10_26 AM 2DeepCut_resnet50_footshuffle_missFeb24shuffle1_750000.h5' to 'inpA1R1T2labels.h5' in '/Users/julienh/Desktop/Beliz/mouse-lick-classification/Data/GentleBoost/train_renamed'\n",
      "Renamed 'Arena1-Run1 Tetrad 2 8_21_2018 8_58_43 AM 2DeepCut_resnet50_footshuffle_missFeb24shuffle1_750000.h5' to 'inpA1R1T2alabels.h5' in '/Users/julienh/Desktop/Beliz/mouse-lick-classification/Data/GentleBoost/train_renamed'\n",
      "Renamed 'Arena1-Run1 Tetrad 2 8_27_2018 8_54_22 AM 2DeepCut_resnet50_footshuffle_missFeb24shuffle1_750000.h5' to 'inpA1R1T2blabels.h5' in '/Users/julienh/Desktop/Beliz/mouse-lick-classification/Data/GentleBoost/train_renamed'\n",
      "Renamed 'Arena4-Run2 Tetrad 3 8_20_2018 12_25_28 PM 3DeepCut_resnet50_footshuffle_missFeb24shuffle1_750000.h5' to 'inpA4R2T3labels.h5' in '/Users/julienh/Desktop/Beliz/mouse-lick-classification/Data/GentleBoost/train_renamed'\n",
      "Renamed 'Arena4-Run2 Tetrad 3 8_27_2018 11_57_54 AM 3DeepCut_resnet50_footshuffle_missFeb24shuffle1_750000.h5' to 'inpA4R2T3alabels.h5' in '/Users/julienh/Desktop/Beliz/mouse-lick-classification/Data/GentleBoost/train_renamed'\n",
      "Renamed 'Arena4-Run2 Tetrad 4 8_20_2018 12_25_28 PM 4DeepCut_resnet50_footshuffle_missFeb24shuffle1_750000.h5' to 'inpA4R2T4labels.h5' in '/Users/julienh/Desktop/Beliz/mouse-lick-classification/Data/GentleBoost/train_renamed'\n",
      "Renamed 'Arena4-Run2 Tetrad 4 8_27_2018 11_57_54 AM 4DeepCut_resnet50_footshuffle_missFeb24shuffle1_750000.h5' to 'inpA4R2T4alabels.h5' in '/Users/julienh/Desktop/Beliz/mouse-lick-classification/Data/GentleBoost/train_renamed'\n",
      "Renamed 'Arena1-Run1 Tetrad 4 8_20_2018 9_10_26 AM 4DeepCut_resnet50_footshuffle_missFeb24shuffle1_750000.h5' to 'inpA1R1T4labels.h5' in '/Users/julienh/Desktop/Beliz/mouse-lick-classification/Data/GentleBoost/train_renamed'\n",
      "Renamed 'Arena3-Run2 Tetrad 1 11_9_2018 11_57_16 AM 1DeepCut_resnet50_footshuffle_missFeb24shuffle1_750000.h5' to 'inpA3R2T1labels.h5' in '/Users/julienh/Desktop/Beliz/mouse-lick-classification/Data/GentleBoost/train_renamed'\n",
      "Renamed 'Arena1-Run2 Tetrad 1 11_9_2018 11_57_16 AM 1DeepCut_resnet50_footshuffle_missFeb24shuffle1_750000.h5' to 'inpA1R2T1labels.h5' in '/Users/julienh/Desktop/Beliz/mouse-lick-classification/Data/GentleBoost/train_renamed'\n",
      "Renamed 'Arena2-Run1 Tetrad 1 8_21_2018 8_58_43 AM 1DeepCut_resnet50_footshuffle_missFeb24shuffle1_750000.h5' to 'inpA2R1T1labels.h5' in '/Users/julienh/Desktop/Beliz/mouse-lick-classification/Data/GentleBoost/train_renamed'\n",
      "Renamed 'Arena2-Run1 Tetrad 1 8_27_2018 8_54_22 AM 1DeepCut_resnet50_footshuffle_missFeb24shuffle1_750000.h5' to 'inpA2R1T1alabels.h5' in '/Users/julienh/Desktop/Beliz/mouse-lick-classification/Data/GentleBoost/train_renamed'\n",
      "Renamed 'Arena3-Run1 Tetrad 4 8_20_2018 9_10_26 AM 4DeepCut_resnet50_footshuffle_missFeb24shuffle1_750000.h5' to 'inpA3R1T4labels.h5' in '/Users/julienh/Desktop/Beliz/mouse-lick-classification/Data/GentleBoost/train_renamed'\n",
      "Renamed 'Arena2-Run2 Tetrad 1 8_20_2018 12_25_28 PM 1DeepCut_resnet50_footshuffle_missFeb24shuffle1_750000.h5' to 'inpA2R2T1labels.h5' in '/Users/julienh/Desktop/Beliz/mouse-lick-classification/Data/GentleBoost/train_renamed'\n",
      "Renamed 'Arena2-Run2 Tetrad 1 11_9_2018 11_57_16 AM 1DeepCut_resnet50_footshuffle_missFeb24shuffle1_750000.h5' to 'inpA2R2T1alabels.h5' in '/Users/julienh/Desktop/Beliz/mouse-lick-classification/Data/GentleBoost/train_renamed'\n",
      "Renamed 'Arena4-Run2 Tetrad 2 8_20_2018 12_25_28 PM 2DeepCut_resnet50_footshuffle_missFeb24shuffle1_750000.h5' to 'inpA4R2T2labels.h5' in '/Users/julienh/Desktop/Beliz/mouse-lick-classification/Data/GentleBoost/train_renamed'\n",
      "Renamed 'Arena4-Run2 Tetrad 2 11_9_2018 11_57_16 AM 2DeepCut_resnet50_footshuffle_missFeb24shuffle1_750000.h5' to 'inpA4R2T2alabels.h5' in '/Users/julienh/Desktop/Beliz/mouse-lick-classification/Data/GentleBoost/train_renamed'\n",
      "Renamed 'Arena1-Run1 Tetrad 1 8_20_2018 9_10_26 AM 1DeepCut_resnet50_footshuffle_missFeb24shuffle1_750000.h5' to 'inpA1R1T1labels.h5' in '/Users/julienh/Desktop/Beliz/mouse-lick-classification/Data/GentleBoost/train_renamed'\n",
      "Renamed 'Arena1-Run1 Tetrad 1 8_27_2018 8_54_22 AM 1DeepCut_resnet50_footshuffle_missFeb24shuffle1_750000.h5' to 'inpA1R1T1alabels.h5' in '/Users/julienh/Desktop/Beliz/mouse-lick-classification/Data/GentleBoost/train_renamed'\n",
      "Renamed 'Arena1-Run2 Tetrad 4 8_27_2018 11_57_54 AM 4DeepCut_resnet50_footshuffle_missFeb24shuffle1_750000.h5' to 'inpA1R2T4labels.h5' in '/Users/julienh/Desktop/Beliz/mouse-lick-classification/Data/GentleBoost/train_renamed'\n",
      "Renamed 'Arena3-Run2 Tetrad 3 8_27_2018 11_57_54 AM 3DeepCut_resnet50_footshuffle_missFeb24shuffle1_750000.h5' to 'inpA3R2T3labels.h5' in '/Users/julienh/Desktop/Beliz/mouse-lick-classification/Data/GentleBoost/train_renamed'\n",
      "Renamed 'Arena1-Run2 Tetrad 3 8_27_2018 11_57_54 AM 3DeepCut_resnet50_footshuffle_missFeb24shuffle1_750000.h5' to 'inpA1R2T3labels.h5' in '/Users/julienh/Desktop/Beliz/mouse-lick-classification/Data/GentleBoost/train_renamed'\n",
      "Renamed 'Arena3-Run2 Tetrad 4 8_27_2018 11_57_54 AM 4DeepCut_resnet50_footshuffle_missFeb24shuffle1_750000.h5' to 'inpA3R2T4labels.h5' in '/Users/julienh/Desktop/Beliz/mouse-lick-classification/Data/GentleBoost/train_renamed'\n",
      "Renamed 'Arena3-Run1 Tetrad 1 8_20_2018 9_10_26 AM 1DeepCut_resnet50_footshuffle_missFeb24shuffle1_750000.h5' to 'inpA3R1T1labels.h5' in '/Users/julienh/Desktop/Beliz/mouse-lick-classification/Data/GentleBoost/train_renamed'\n",
      "Renamed 'Arena3-Run1 Tetrad 1 8_21_2018 8_58_43 AM 1DeepCut_resnet50_footshuffle_missFeb24shuffle1_750000.h5' to 'inpA3R1T1alabels.h5' in '/Users/julienh/Desktop/Beliz/mouse-lick-classification/Data/GentleBoost/train_renamed'\n",
      "Renamed 'Arena3-Run1 Tetrad 1 8_27_2018 8_54_22 AM 1DeepCut_resnet50_footshuffle_missFeb24shuffle1_750000.h5' to 'inpA3R1T1blabels.h5' in '/Users/julienh/Desktop/Beliz/mouse-lick-classification/Data/GentleBoost/train_renamed'\n",
      "Renamed 'Arena4-Run2 Tetrad 1 8_20_2018 12_25_28 PM 1DeepCut_resnet50_footshuffle_missFeb24shuffle1_750000.h5' to 'inpA4R2T1labels.h5' in '/Users/julienh/Desktop/Beliz/mouse-lick-classification/Data/GentleBoost/train_renamed'\n",
      "Renamed 'Arena4-Run2 Tetrad 1 11_9_2018 11_57_16 AM 1DeepCut_resnet50_footshuffle_missFeb24shuffle1_750000.h5' to 'inpA4R2T1alabels.h5' in '/Users/julienh/Desktop/Beliz/mouse-lick-classification/Data/GentleBoost/train_renamed'\n",
      "Renamed 'Arena2-Run2 Tetrad 2 8_20_2018 12_25_28 PM 2DeepCut_resnet50_footshuffle_missFeb24shuffle1_750000.h5' to 'inpA2R2T2labels.h5' in '/Users/julienh/Desktop/Beliz/mouse-lick-classification/Data/GentleBoost/train_renamed'\n",
      "Renamed 'Arena2-Run2 Tetrad 2 11_9_2018 11_57_16 AM 2DeepCut_resnet50_footshuffle_missFeb24shuffle1_750000.h5' to 'inpA2R2T2alabels.h5' in '/Users/julienh/Desktop/Beliz/mouse-lick-classification/Data/GentleBoost/train_renamed'\n",
      "Renamed 'Arena2-Run2 Tetrad 4 8_20_2018 12_25_28 PM 4DeepCut_resnet50_footshuffle_missFeb24shuffle1_750000.h5' to 'inpA2R2T4labels.h5' in '/Users/julienh/Desktop/Beliz/mouse-lick-classification/Data/GentleBoost/train_renamed'\n",
      "Renamed 'Arena2-Run2 Tetrad 4 8_27_2018 11_57_54 AM 4DeepCut_resnet50_footshuffle_missFeb24shuffle1_750000.h5' to 'inpA2R2T4alabels.h5' in '/Users/julienh/Desktop/Beliz/mouse-lick-classification/Data/GentleBoost/train_renamed'\n",
      "Renamed 'Arena2-Run2 Tetrad 3 8_20_2018 12_25_28 PM 3DeepCut_resnet50_footshuffle_missFeb24shuffle1_750000.h5' to 'inpA2R2T3labels.h5' in '/Users/julienh/Desktop/Beliz/mouse-lick-classification/Data/GentleBoost/train_renamed'\n",
      "Renamed 'Arena2-Run2 Tetrad 3 8_27_2018 11_57_54 AM 3DeepCut_resnet50_footshuffle_missFeb24shuffle1_750000.h5' to 'inpA2R2T3alabels.h5' in '/Users/julienh/Desktop/Beliz/mouse-lick-classification/Data/GentleBoost/train_renamed'\n",
      "Renamed 'Arena3-Run1 Tetrad 2 8_20_2018 9_10_26 AM 2DeepCut_resnet50_footshuffle_missFeb24shuffle1_750000.h5' to 'inpA3R1T2labels.h5' in '/Users/julienh/Desktop/Beliz/mouse-lick-classification/Data/GentleBoost/train_renamed'\n",
      "Renamed 'Arena1-Run2 Tetrad 2 11_9_2018 11_57_16 AM 2DeepCut_resnet50_footshuffle_missFeb24shuffle1_750000.h5' to 'inpA1R2T2labels.h5' in '/Users/julienh/Desktop/Beliz/mouse-lick-classification/Data/GentleBoost/train_renamed'\n",
      "Renamed 'Arena3-Run2 Tetrad 2 11_9_2018 11_57_16 AM 2DeepCut_resnet50_footshuffle_missFeb24shuffle1_750000.h5' to 'inpA3R2T2labels.h5' in '/Users/julienh/Desktop/Beliz/mouse-lick-classification/Data/GentleBoost/train_renamed'\n",
      "Renamed 'Arena1-Run1 Tetrad 3 8_20_2018 9_10_26 AM 3DeepCut_resnet50_footshuffle_missFeb24shuffle1_750000.h5' to 'inpA1R1T3labels.h5' in '/Users/julienh/Desktop/Beliz/mouse-lick-classification/Data/GentleBoost/train_renamed'\n",
      "Renamed 'Arena4-Run1 Tetrad 1 8_27_2018 8_54_22 AM 1DeepCut_resnet50_footshuffle_missFeb24shuffle1_750000.h5' to 'inpA4R1T1labels.h5' in '/Users/julienh/Desktop/Beliz/mouse-lick-classification/Data/GentleBoost/train_renamed'\n",
      "Renamed 'Arena3-Run1 Tetrad 3 8_20_2018 9_10_26 AM 3DeepCut_resnet50_footshuffle_missFeb24shuffle1_750000.h5' to 'inpA3R1T3labels.h5' in '/Users/julienh/Desktop/Beliz/mouse-lick-classification/Data/GentleBoost/train_renamed'\n"
     ]
    }
   ],
   "source": [
    "# Create a new directory for renamed files\n",
    "renamed_folder = os.path.join(gentleboost_folder, 'train_renamed')\n",
    "os.makedirs(renamed_folder, exist_ok=True)\n",
    "\n",
    "# Function to extract info from training filenames\n",
    "def extract_training_info(filename):\n",
    "    # Pattern to extract Arena, Run, Tetrad, and Date\n",
    "    pattern = r\"Arena(\\d)-Run(\\d) Tetrad (\\d) (\\d+_\\d+_\\d+ \\d+_\\d+_\\d+ [AP]M)\"\n",
    "    match = re.search(pattern, filename)\n",
    "    if match:\n",
    "        arena = match.group(1)\n",
    "        run = match.group(2)\n",
    "        tetrad = match.group(3)\n",
    "        date_str = match.group(4)\n",
    "        date = datetime.strptime(date_str, \"%m_%d_%Y %I_%M_%S %p\")\n",
    "        return {\n",
    "            'arena': arena,\n",
    "            'run': run,\n",
    "            'tetrad': tetrad,\n",
    "            'date': date,\n",
    "            'original_filename': filename\n",
    "        }\n",
    "    else:\n",
    "        return None\n",
    "\n",
    "# Step 1: Extract info from training files\n",
    "train_files_info = []\n",
    "for filename in os.listdir(train40_folder):\n",
    "    info = extract_training_info(filename)\n",
    "    if info:\n",
    "        train_files_info.append(info)\n",
    "    else:\n",
    "        print(f\"Filename does not match pattern: {filename}\")\n",
    "\n",
    "# Step 2: Group training files by (Arena, Run, Tetrad)\n",
    "training_groups = defaultdict(list)\n",
    "for info in train_files_info:\n",
    "    key = (info['arena'], info['run'], info['tetrad'])\n",
    "    training_groups[key].append(info)\n",
    "\n",
    "# Step 3: Sort each group by date and assign suffixes\n",
    "suffixes = ['', 'a', 'b', 'c', 'd', 'e']  # Extend if needed\n",
    "renamed_files = []\n",
    "\n",
    "for key, files in training_groups.items():\n",
    "    # Sort files by date\n",
    "    sorted_files = sorted(files, key=lambda x: x['date'])\n",
    "    # Check if we have enough suffixes\n",
    "    if len(sorted_files) > len(suffixes):\n",
    "        raise ValueError(f\"Not enough suffixes for group {key}\")\n",
    "    # Assign suffixes and rename files\n",
    "    for idx, file_info in enumerate(sorted_files):\n",
    "        suffix = suffixes[idx]\n",
    "        new_filename = f\"inpA{file_info['arena']}R{file_info['run']}T{file_info['tetrad']}{suffix}labels.h5\"\n",
    "        # Append to list for later matching\n",
    "        renamed_files.append({\n",
    "            'original_filename': file_info['original_filename'],\n",
    "            'new_filename': new_filename,\n",
    "            'date': file_info['date'],\n",
    "            'arena': file_info['arena'],\n",
    "            'run': file_info['run'],\n",
    "            'tetrad': file_info['tetrad'],\n",
    "            'suffix': suffix\n",
    "        })\n",
    "        # Rename the file to the new directory\n",
    "        original_path = os.path.join(train40_folder, file_info['original_filename'])\n",
    "        new_path = os.path.join(renamed_folder, new_filename)\n",
    "        os.rename(original_path, new_path)\n",
    "        print(f\"Renamed '{file_info['original_filename']}' to '{new_filename}' in '{renamed_folder}'\")"
   ]
  },
  {
   "cell_type": "code",
   "execution_count": null,
   "metadata": {},
   "outputs": [],
   "source": [
    "trained_renamed_folder = os.path.join(gentleboost_folder, 'train_renamed')"
   ]
  },
  {
   "cell_type": "code",
   "execution_count": 9,
   "metadata": {},
   "outputs": [
    {
     "name": "stdout",
     "output_type": "stream",
     "text": [
      "\n",
      "Matched Pairs:\n",
      "Training File: inpA3R1T1blabels.h5 <--> Label File: inpA3R1T1blabels.h5\n",
      "Training File: inpA2R2T1labels.h5 <--> Label File: inpA2R2T1 labels.h5\n",
      "Training File: inpA3R2T4labels.h5 <--> Label File: inpA3R2T4 labels.h5\n",
      "Training File: inpA4R2T4alabels.h5 <--> Label File: inpA4R2T4alabels.h5\n",
      "Training File: inpA1R1T2blabels.h5 <--> Label File: inpA1R1T2blabels.h5\n",
      "Training File: inpA4R2T2labels.h5 <--> Label File: inpA4R2T2 labels.h5\n",
      "Training File: inpA3R1T3labels.h5 <--> Label File: inpA3R1T3 labels.h5\n",
      "Training File: inpA2R2T1alabels.h5 <--> Label File: inpA2R2T1alabels.h5\n",
      "Training File: inpA1R2T1labels.h5 <--> Label File: inpA1R2T1 labels.h5\n",
      "Training File: inpA4R2T4labels.h5 <--> Label File: inpA4R2T4 labels.h5\n",
      "Training File: inpA4R2T2alabels.h5 <--> Label File: inpA4R2T2alabels.h5\n",
      "Training File: inpA1R1T1labels.h5 <--> Label File: inpA1R1T1 labels.h5\n",
      "Training File: inpA4R2T3labels.h5 <--> Label File: inpA4R2T3 labels.h5\n",
      "Training File: inpA3R1T2labels.h5 <--> Label File: inpA3R1T2 labels.h5\n",
      "Training File: inpA2R1T1alabels.h5 <--> Label File: inpA2R1T1alabels.h5\n",
      "Training File: inpA3R2T3labels.h5 <--> Label File: inpA3R2T3 labels.h5\n",
      "Training File: inpA1R1T1alabels.h5 <--> Label File: inpA1R1T1alabels.h5\n",
      "Training File: inpA3R1T4labels.h5 <--> Label File: inpA3R1T4 labels.h5\n",
      "Training File: inpA2R1T1labels.h5 <--> Label File: inpA2R1T1 labels.h5\n",
      "Training File: inpA4R2T3alabels.h5 <--> Label File: inpA4R2T3alabels.h5\n",
      "Training File: inpA1R1T2labels.h5 <--> Label File: inpA1R1T2 labels.h5\n",
      "Training File: inpA2R2T3labels.h5 <--> Label File: inpA2R2T3 labels.h5\n",
      "Training File: inpA3R1T1labels.h5 <--> Label File: inpA3R1T1 labels.h5\n",
      "Training File: inpA1R1T2alabels.h5 <--> Label File: inpA1R1T2alabels.h5\n",
      "Training File: inpA3R2T2labels.h5 <--> Label File: inpA3R2T2labels.h5\n",
      "Training File: inpA2R2T3alabels.h5 <--> Label File: inpA2R2T3alabels.h5\n",
      "Training File: inpA4R1T1labels.h5 <--> Label File: inpA4R1T1 labels.h5\n",
      "Training File: inpA1R1T4labels.h5 <--> Label File: inpA1R1T4 labels.h5\n",
      "Training File: inpA3R1T1alabels.h5 <--> Label File: inpA3R1T1alabels.h5\n",
      "Training File: inpA1R2T3labels.h5 <--> Label File: inpA1R2T3 labels.h5\n",
      "Training File: inpA1R1T3labels.h5 <--> Label File: inpA1R1T3 labels.h5\n",
      "Training File: inpA2R2T4alabels.h5 <--> Label File: inpA2R2T4alabels.h5\n",
      "Training File: inpA2R2T2labels.h5 <--> Label File: inpA2R2T2 labels.h5\n",
      "Training File: inpA4R2T1labels.h5 <--> Label File: inpA4R2T1 labels.h5\n",
      "Training File: inpA1R2T4labels.h5 <--> Label File: inpA1R2T4 labels.h5\n",
      "Training File: inpA2R2T4labels.h5 <--> Label File: inpA2R2T4 labels.h5\n",
      "Training File: inpA3R2T1labels.h5 <--> Label File: inpA3R2T1 labels.h5\n",
      "Training File: inpA2R2T2alabels.h5 <--> Label File: inpA2R2T2alabels.h5\n",
      "Training File: inpA4R2T1alabels.h5 <--> Label File: inpA4R2T1alabels.h5\n",
      "Training File: inpA1R2T2labels.h5 <--> Label File: inpA1R2T2 labels.h5\n"
     ]
    }
   ],
   "source": [
    "\n",
    "label_files = os.listdir(training_labels_folder)\n",
    "data_files = os.listdir(trained_renamed_folder)\n",
    "\n",
    "# Create a mapping from label filenames to their info\n",
    "def extract_label_info(filename):\n",
    "    # Updated pattern to allow an optional space before \"labels\"\n",
    "    pattern = r\"inpA(\\d)R(\\d)T(\\d)([a-z]?)\\s*labels\\.h5\"\n",
    "    match = re.match(pattern, filename)\n",
    "    if match:\n",
    "        return {\n",
    "            'arena': match.group(1),\n",
    "            'run': match.group(2),\n",
    "            'tetrad': match.group(3),\n",
    "            'suffix': match.group(4),\n",
    "            'filename': filename\n",
    "        }\n",
    "    else:\n",
    "        return None\n",
    "\n",
    "label_files_info = []\n",
    "data_files_info = []\n",
    "\n",
    "for filename in label_files:\n",
    "    info = extract_label_info(filename)\n",
    "    if info:\n",
    "        label_files_info.append(info)\n",
    "    else:\n",
    "        print(f\"Label filename does not match pattern: {filename}\")\n",
    "\n",
    "for filename in data_files:\n",
    "    info = extract_label_info(filename)\n",
    "    if info:\n",
    "        data_files_info.append(info)\n",
    "    else:\n",
    "        print(f\"Data filename does not match pattern: {filename}\")\n",
    "\n",
    "# Now match based on arena, run, tetrad, and suffix\n",
    "matched_pairs = []\n",
    "\n",
    "for label_info in label_files_info:\n",
    "    for train_info in data_files_info:\n",
    "        if (label_info['arena'] == train_info['arena'] and\n",
    "            label_info['run'] == train_info['run'] and\n",
    "            label_info['tetrad'] == train_info['tetrad'] and\n",
    "            label_info['suffix'] == train_info['suffix']):\n",
    "            matched_pairs.append((train_info['filename'], label_info['filename']))\n",
    "            break\n",
    "    else:\n",
    "        print(f\"No matching training file for label file: {label_info['filename']}\")\n",
    "\n",
    "# Step 5: Use the matched pairs as needed\n",
    "print(\"\\nMatched Pairs:\")\n",
    "for train_file, label_file in matched_pairs:\n",
    "    print(f\"Training File: {train_file} <--> Label File: {label_file}\")\n"
   ]
  },
  {
   "cell_type": "code",
   "execution_count": 10,
   "metadata": {},
   "outputs": [
    {
     "data": {
      "text/plain": [
       "[('inpA3R1T1blabels.h5', 'inpA3R1T1blabels.h5'),\n",
       " ('inpA2R2T1labels.h5', 'inpA2R2T1 labels.h5'),\n",
       " ('inpA3R2T4labels.h5', 'inpA3R2T4 labels.h5'),\n",
       " ('inpA4R2T4alabels.h5', 'inpA4R2T4alabels.h5'),\n",
       " ('inpA1R1T2blabels.h5', 'inpA1R1T2blabels.h5'),\n",
       " ('inpA4R2T2labels.h5', 'inpA4R2T2 labels.h5'),\n",
       " ('inpA3R1T3labels.h5', 'inpA3R1T3 labels.h5'),\n",
       " ('inpA2R2T1alabels.h5', 'inpA2R2T1alabels.h5'),\n",
       " ('inpA1R2T1labels.h5', 'inpA1R2T1 labels.h5'),\n",
       " ('inpA4R2T4labels.h5', 'inpA4R2T4 labels.h5'),\n",
       " ('inpA4R2T2alabels.h5', 'inpA4R2T2alabels.h5'),\n",
       " ('inpA1R1T1labels.h5', 'inpA1R1T1 labels.h5'),\n",
       " ('inpA4R2T3labels.h5', 'inpA4R2T3 labels.h5'),\n",
       " ('inpA3R1T2labels.h5', 'inpA3R1T2 labels.h5'),\n",
       " ('inpA2R1T1alabels.h5', 'inpA2R1T1alabels.h5'),\n",
       " ('inpA3R2T3labels.h5', 'inpA3R2T3 labels.h5'),\n",
       " ('inpA1R1T1alabels.h5', 'inpA1R1T1alabels.h5'),\n",
       " ('inpA3R1T4labels.h5', 'inpA3R1T4 labels.h5'),\n",
       " ('inpA2R1T1labels.h5', 'inpA2R1T1 labels.h5'),\n",
       " ('inpA4R2T3alabels.h5', 'inpA4R2T3alabels.h5'),\n",
       " ('inpA1R1T2labels.h5', 'inpA1R1T2 labels.h5'),\n",
       " ('inpA2R2T3labels.h5', 'inpA2R2T3 labels.h5'),\n",
       " ('inpA3R1T1labels.h5', 'inpA3R1T1 labels.h5'),\n",
       " ('inpA1R1T2alabels.h5', 'inpA1R1T2alabels.h5'),\n",
       " ('inpA3R2T2labels.h5', 'inpA3R2T2labels.h5'),\n",
       " ('inpA2R2T3alabels.h5', 'inpA2R2T3alabels.h5'),\n",
       " ('inpA4R1T1labels.h5', 'inpA4R1T1 labels.h5'),\n",
       " ('inpA1R1T4labels.h5', 'inpA1R1T4 labels.h5'),\n",
       " ('inpA3R1T1alabels.h5', 'inpA3R1T1alabels.h5'),\n",
       " ('inpA1R2T3labels.h5', 'inpA1R2T3 labels.h5'),\n",
       " ('inpA1R1T3labels.h5', 'inpA1R1T3 labels.h5'),\n",
       " ('inpA2R2T4alabels.h5', 'inpA2R2T4alabels.h5'),\n",
       " ('inpA2R2T2labels.h5', 'inpA2R2T2 labels.h5'),\n",
       " ('inpA4R2T1labels.h5', 'inpA4R2T1 labels.h5'),\n",
       " ('inpA1R2T4labels.h5', 'inpA1R2T4 labels.h5'),\n",
       " ('inpA2R2T4labels.h5', 'inpA2R2T4 labels.h5'),\n",
       " ('inpA3R2T1labels.h5', 'inpA3R2T1 labels.h5'),\n",
       " ('inpA2R2T2alabels.h5', 'inpA2R2T2alabels.h5'),\n",
       " ('inpA4R2T1alabels.h5', 'inpA4R2T1alabels.h5'),\n",
       " ('inpA1R2T2labels.h5', 'inpA1R2T2 labels.h5')]"
      ]
     },
     "execution_count": 10,
     "metadata": {},
     "output_type": "execute_result"
    }
   ],
   "source": [
    "matched_pairs"
   ]
  },
  {
   "cell_type": "code",
   "execution_count": 11,
   "metadata": {},
   "outputs": [
    {
     "name": "stdout",
     "output_type": "stream",
     "text": [
      "Dataset shape: (4775, 159)\n",
      "Labels shape: (4776, 1)\n",
      "Mismatch in the number of samples between data and labels.\n"
     ]
    }
   ],
   "source": [
    "def compare_dimensions(train_data_element, verbose=False):\n",
    "    # Extract file paths from the train_data element\n",
    "    sample_train_file = os.path.join(trained_renamed_folder, train_data_element[0])\n",
    "    sample_label_file = os.path.join(training_labels_folder, train_data_element[1])\n",
    "\n",
    "    # Open the .h5 file for the dataset\n",
    "    with h5py.File(sample_train_file, 'r') as f:\n",
    "        # Access the group\n",
    "        group = f['df_with_missing']\n",
    "        \n",
    "        # Access the dataset\n",
    "        dataset = group['table']\n",
    "        data_array = np.array([element[1] for element in dataset[:]])\n",
    "        if verbose:\n",
    "            print(f\"Dataset shape: {data_array.shape}\")\n",
    "\n",
    "    # Open the .h5 file for the label\n",
    "    with h5py.File(sample_label_file, 'r') as f:\n",
    "        labels = f['labels']\n",
    "        labels_array = labels[:].T\n",
    "        if verbose:\n",
    "            print(f\"Labels shape: {labels_array.shape}\")\n",
    "\n",
    "    # Compare dimensions\n",
    "    if data_array.shape[0] == labels_array.shape[0]:\n",
    "        print(\"The number of samples in data and labels match.\")\n",
    "    else:\n",
    "        print(\"Mismatch in the number of samples between data and labels.\")\n",
    "\n",
    "# Example usage\n",
    "compare_dimensions(matched_pairs[36], verbose=True)"
   ]
  },
  {
   "cell_type": "code",
   "execution_count": 12,
   "metadata": {},
   "outputs": [
    {
     "name": "stdout",
     "output_type": "stream",
     "text": [
      "Dataset (shape: (4571, 159)):\n",
      "Labels (shape: (4571, 1)):\n",
      "Combined array (shape: (4571, 160)):\n"
     ]
    }
   ],
   "source": [
    "def compute_combined_array(train_data_element, verbose=False):\n",
    "    # Extract file paths from the train_data element\n",
    "    sample_train_file = os.path.join(trained_renamed_folder, train_data_element[0])\n",
    "    sample_label_file = os.path.join(training_labels_folder, train_data_element[1])\n",
    "\n",
    "    # Open the .h5 file for the dataset\n",
    "    with h5py.File(sample_train_file, 'r') as f:\n",
    "        # Access the group\n",
    "        group = f['df_with_missing']\n",
    "        \n",
    "        # Access the dataset\n",
    "        dataset = group['table']\n",
    "        data_array = np.array([element[1] for element in dataset[:]])\n",
    "        if verbose:\n",
    "            print(f\"Dataset (shape: {data_array.shape}):\")\n",
    "\n",
    "    # Open the .h5 file for the label\n",
    "    with h5py.File(sample_label_file, 'r') as f:\n",
    "        labels = f['labels']\n",
    "        labels_array = labels[:].T\n",
    "        if verbose:\n",
    "            print(f\"Labels (shape: {labels_array.shape}):\")\n",
    "\n",
    "    # Combine into one array\n",
    "    combined_array = np.concatenate((data_array, labels_array), axis=1)\n",
    "    if verbose:\n",
    "        print(f\"Combined array (shape: {combined_array.shape}):\")\n",
    "\n",
    "    return combined_array\n",
    "\n",
    "# Example usage\n",
    "combined_array = compute_combined_array(matched_pairs[14], verbose=True)"
   ]
  },
  {
   "cell_type": "code",
   "execution_count": 13,
   "metadata": {},
   "outputs": [
    {
     "name": "stdout",
     "output_type": "stream",
     "text": [
      "Train data DataFrame shape: (269659, 160)\n"
     ]
    }
   ],
   "source": [
    "# Initialize an empty list to store combined arrays\n",
    "combined_arrays = []\n",
    "\n",
    "# Iterate through each element in train_data\n",
    "# remove index 36 because it has a mismatch in the number of columns\n",
    "pairs = matched_pairs[:36] + matched_pairs[37:]\n",
    "for element in pairs:\n",
    "    combined_array = compute_combined_array(element)\n",
    "    \n",
    "    # Check if the number of columns matches the first array\n",
    "    if combined_arrays and combined_array.shape[1] != combined_arrays[0].shape[1]:\n",
    "        print(f\"Warning: Column mismatch for {element[0]}. Expected {combined_arrays[0].shape[1]}, got {combined_array.shape[1]}.\")\n",
    "        continue  # Skip this array or handle it as needed\n",
    "    \n",
    "    combined_arrays.append(combined_array)\n",
    "\n",
    "# Concatenate all combined arrays into a single numpy array\n",
    "all_combined_data = np.vstack(combined_arrays)\n",
    "\n",
    "# Convert the numpy array to a pandas DataFrame\n",
    "train_data_df = pd.DataFrame(all_combined_data)\n",
    "\n",
    "# Display the shape of the resulting DataFrame\n",
    "print(f\"Train data DataFrame shape: {train_data_df.shape}\")"
   ]
  },
  {
   "cell_type": "code",
   "execution_count": 18,
   "metadata": {},
   "outputs": [],
   "source": [
    "# lets save it as a csv file\n",
    "train_data_df.to_csv(os.path.join(gentleboost_folder, 'train_data.csv'), index=False)"
   ]
  },
  {
   "cell_type": "markdown",
   "metadata": {},
   "source": [
    "## Training some Classifiers"
   ]
  },
  {
   "cell_type": "markdown",
   "metadata": {},
   "source": [
    "#### Imports\n",
    "\n",
    "For training and testing classifiers"
   ]
  },
  {
   "cell_type": "code",
   "execution_count": 14,
   "metadata": {},
   "outputs": [],
   "source": [
    "import time\n",
    "from functools import wraps\n",
    "\n",
    "# sklearn imports\n",
    "from sklearn.preprocessing import StandardScaler, PowerTransformer\n",
    "from sklearn.metrics import precision_score, recall_score\n",
    "from sklearn.model_selection import train_test_split, cross_val_score, GridSearchCV\n",
    "from sklearn.pipeline import make_pipeline, Pipeline\n"
   ]
  },
  {
   "cell_type": "markdown",
   "metadata": {},
   "source": [
    "Our helper functions:\n",
    "\n",
    "- `log_execution_time` to report the time of training and testing. \n",
    "- `save_results` to save the results of the training and testing for visualizaton purposes\n",
    "- `train_and_evaluate_model` to train and evaluate the model."
   ]
  },
  {
   "cell_type": "code",
   "execution_count": 15,
   "metadata": {},
   "outputs": [],
   "source": [
    "results_df = pd.DataFrame(columns=['Model', 'Cross-Validation Accuracy', 'Training Accuracy', 'Test Accuracy', 'Precision', 'Recall'])"
   ]
  },
  {
   "cell_type": "code",
   "execution_count": 16,
   "metadata": {},
   "outputs": [],
   "source": [
    "# Initialize a global DataFrame to store results\n",
    "\n",
    "def log_execution_time(func):\n",
    "    @wraps(func)\n",
    "    def wrapper(*args, **kwargs):\n",
    "        start_time = time.time()\n",
    "        result = func(*args, **kwargs)\n",
    "        end_time = time.time()\n",
    "        execution_time = end_time - start_time\n",
    "        print(f\"Execution time for {func.__name__}: {execution_time:.4f} seconds\")\n",
    "        # add the execution time to the result\n",
    "        result['execution_time'] = execution_time\n",
    "        return result\n",
    "    return wrapper\n",
    "\n",
    "def save_results(func):\n",
    "    @wraps(func)\n",
    "    def wrapper(*args, **kwargs):\n",
    "        # Call the original function and capture its output\n",
    "        result = func(*args, **kwargs)\n",
    "        \n",
    "        # Extract the estimator from the arguments\n",
    "        estimator = args[4]  # Assuming the estimator is the 5th argument\n",
    "\n",
    "        if isinstance(estimator, Pipeline):\n",
    "            model_name = estimator.steps[-1][1].__class__.__name__\n",
    "        else:\n",
    "            model_name = estimator.__class__.__name__\n",
    "\n",
    "        cv_accuracy = result['cv_accuracy']\n",
    "        train_accuracy = result['train_accuracy']\n",
    "        test_accuracy = result['test_accuracy']\n",
    "        precision = result['precision']\n",
    "        recall = result['recall']\n",
    "        execution_time = result['execution_time']\n",
    "\n",
    "        # Append the results to the global DataFrame\n",
    "        current_result_df = pd.DataFrame({\n",
    "            'Model': [model_name],\n",
    "            'Cross-Validation Accuracy': [cv_accuracy],\n",
    "            'Training Accuracy': [train_accuracy],\n",
    "            'Test Accuracy': [test_accuracy],\n",
    "            'Precision': [precision],\n",
    "            'Recall': [recall],\n",
    "            'Execution Time': [execution_time]\n",
    "        })\n",
    "        \n",
    "        global results_df\n",
    "        results_df = pd.concat([results_df, current_result_df], ignore_index=True)\n",
    "        \n",
    "        return result\n",
    "    return wrapper\n",
    "\n",
    "# Apply the new decorator to the train_and_evaluate_model function\n",
    "@save_results\n",
    "@log_execution_time\n",
    "def train_and_evaluate_model(X_train, y_train, X_test, y_test, estimator, cv=5):\n",
    "    # Perform cross-validation\n",
    "    cv_scores = cross_val_score(estimator, X_train, y_train, cv=cv, scoring='accuracy')\n",
    "    cv_accuracy = cv_scores.mean()\n",
    "    print(f\"Cross-Validation Accuracy: {cv_accuracy:.4f} ± {cv_scores.std():.4f}\")\n",
    "    \n",
    "    # Fit the model\n",
    "    estimator.fit(X_train, y_train)\n",
    "    \n",
    "    # Calculate training accuracy\n",
    "    train_accuracy = estimator.score(X_train, y_train)\n",
    "    print(f\"Training Accuracy: {train_accuracy:.4f}\")\n",
    "    \n",
    "    # Calculate test accuracy\n",
    "    test_accuracy = estimator.score(X_test, y_test)\n",
    "    print(f\"Test Accuracy: {test_accuracy:.4f}\")\n",
    "    \n",
    "    # Predict test labels\n",
    "    y_pred = estimator.predict(X_test)\n",
    "    \n",
    "    # Calculate precision and recall\n",
    "    precision = precision_score(y_test, y_pred, average='weighted', zero_division=0)\n",
    "    recall = recall_score(y_test, y_pred, average='weighted', zero_division=0)\n",
    "    print(f\"Precision: {precision:.4f}\")\n",
    "    print(f\"Recall: {recall:.4f}\")\n",
    "    \n",
    "    # Return the metrics for the save_results decorator\n",
    "    return {\n",
    "        'cv_accuracy': cv_accuracy,\n",
    "        'train_accuracy': train_accuracy,\n",
    "        'test_accuracy': test_accuracy,\n",
    "        'precision': precision,\n",
    "        'recall': recall\n",
    "    }\n",
    "\n"
   ]
  },
  {
   "cell_type": "markdown",
   "metadata": {},
   "source": [
    "Lets split the data into training and testing sets \n",
    "\n",
    "For tree based models we don't need to standardize the data, however for other models we need to standardize the data. It shouldn't affect the tree based models, but it will affect the other models."
   ]
  },
  {
   "cell_type": "code",
   "execution_count": 17,
   "metadata": {},
   "outputs": [],
   "source": [
    "# we split the copmlete data into X and y -> features and labels\n",
    "X = train_data_df.iloc[:, :-1]\n",
    "y = train_data_df.iloc[:, -1]\n",
    "\n",
    "X = X.replace([np.inf, -np.inf], np.nan)\n",
    "X = X.fillna(X.mean())\n",
    "\n",
    "X = X.astype(np.float64)\n",
    "y = y.astype(np.float64)\n",
    "\n",
    "# we split the data into training and testing sets\n",
    "X_train_unscaled, X_test_unscaled, y_train, y_test = train_test_split(X, y, test_size=0.2, random_state=42)\n",
    "\n",
    "# lets standardize the data for non-tree based models\n",
    "scaler = StandardScaler()\n",
    "X_train = scaler.fit_transform(X_train_unscaled)\n",
    "X_test = scaler.transform(X_test_unscaled)\n"
   ]
  },
  {
   "cell_type": "markdown",
   "metadata": {},
   "source": [
    "#### Dummy classifier\n",
    "\n",
    "We will choose the most frequent strategy. This will serve as a good baseline to understand the performance of the other classifiers."
   ]
  },
  {
   "cell_type": "code",
   "execution_count": 18,
   "metadata": {},
   "outputs": [
    {
     "name": "stdout",
     "output_type": "stream",
     "text": [
      "Cross-Validation Accuracy: 0.8323 ± 0.0000\n",
      "Training Accuracy: 0.8323\n",
      "Test Accuracy: 0.8331\n",
      "Precision: 0.6941\n",
      "Recall: 0.8331\n",
      "Execution time for train_and_evaluate_model: 0.3832 seconds\n"
     ]
    },
    {
     "data": {
      "text/plain": [
       "{'cv_accuracy': 0.8322741243046858,\n",
       " 'train_accuracy': 0.8322741242403593,\n",
       " 'test_accuracy': 0.8331046503003783,\n",
       " 'precision': 0.6940633583521156,\n",
       " 'recall': 0.8331046503003783,\n",
       " 'execution_time': 0.38321709632873535}"
      ]
     },
     "execution_count": 18,
     "metadata": {},
     "output_type": "execute_result"
    }
   ],
   "source": [
    "# Lets make a dummy classifier as a baseline\n",
    "from sklearn.dummy import DummyClassifier\n",
    "\n",
    "dummy_clf = DummyClassifier(strategy=\"most_frequent\")\n",
    "train_and_evaluate_model(X_train, y_train, X_test, y_test, dummy_clf)"
   ]
  },
  {
   "cell_type": "markdown",
   "metadata": {},
   "source": [
    "We can see due to the imbalance in the dataset, the dummy classifier already has a 80% accuracy."
   ]
  },
  {
   "cell_type": "markdown",
   "metadata": {},
   "source": [
    "#### Naive Bayes"
   ]
  },
  {
   "cell_type": "code",
   "execution_count": null,
   "metadata": {},
   "outputs": [],
   "source": [
    "from sklearn.naive_bayes import GaussianNB\n",
    "\n",
    "# Example of feature transformation using PowerTransformer\n",
    "transformer = PowerTransformer()\n",
    "\n",
    "# Create a pipeline with feature transformation and Naive Bayes\n",
    "pipeline = make_pipeline(transformer, GaussianNB())\n",
    "\n",
    "# Define a grid of hyperparameters to search\n",
    "param_grid = {\n",
    "    'gaussiannb__var_smoothing': [1e-9, 1e-8, 1e-7]  # Example hyperparameter for GaussianNB\n",
    "}\n",
    "\n",
    "# Use GridSearchCV to find the best hyperparameters\n",
    "grid_search = GridSearchCV(pipeline, param_grid, cv=5, scoring='accuracy')\n",
    "grid_search.fit(X_train, y_train)\n",
    "\n",
    "# Evaluate the best model\n",
    "best_model = grid_search.best_estimator_"
   ]
  },
  {
   "cell_type": "code",
   "execution_count": 291,
   "metadata": {},
   "outputs": [
    {
     "name": "stdout",
     "output_type": "stream",
     "text": [
      "Cross-Validation Accuracy: 0.6993 ± 0.0008\n",
      "Training Accuracy: 0.6993\n",
      "Test Accuracy: 0.6981\n",
      "Precision: 0.8484\n",
      "Recall: 0.6981\n",
      "Execution time for train_and_evaluate_model: 81.4269 seconds\n"
     ]
    },
    {
     "data": {
      "text/plain": [
       "{'cv_accuracy': np.float64(0.6992587792250948),\n",
       " 'train_accuracy': 0.6992587854093368,\n",
       " 'test_accuracy': 0.6981013127642216,\n",
       " 'precision': np.float64(0.8483856672577935),\n",
       " 'recall': np.float64(0.6981013127642216)}"
      ]
     },
     "execution_count": 291,
     "metadata": {},
     "output_type": "execute_result"
    }
   ],
   "source": [
    "# now with our best model we can evaluate it\n",
    "train_and_evaluate_model(X_train, y_train, X_test, y_test, best_model)"
   ]
  },
  {
   "cell_type": "markdown",
   "metadata": {},
   "source": [
    "#### KNN Classifier\n",
    "\n",
    "K-Nearest Neighbors (KNN) is a simple, non-parametric algorithm that classifies data points based on the majority class of their closest neighbors in the feature space. It calculates the distance between points and assigns the label of the majority of the nearest  k  neighbors."
   ]
  },
  {
   "cell_type": "code",
   "execution_count": 286,
   "metadata": {},
   "outputs": [
    {
     "name": "stdout",
     "output_type": "stream",
     "text": [
      "Cross-Validation Accuracy: 0.9748 ± 0.0010\n",
      "Training Accuracy: 0.9853\n",
      "Test Accuracy: 0.9737\n",
      "Precision: 0.9737\n",
      "Recall: 0.9737\n",
      "Execution time for train_and_evaluate_model: 117.7639 seconds\n"
     ]
    },
    {
     "data": {
      "text/plain": [
       "{'cv_accuracy': np.float64(0.9747597676383238),\n",
       " 'train_accuracy': 0.9853194083262642,\n",
       " 'test_accuracy': 0.9736705480976043,\n",
       " 'precision': np.float64(0.97366356902425),\n",
       " 'recall': np.float64(0.9736705480976043)}"
      ]
     },
     "execution_count": 286,
     "metadata": {},
     "output_type": "execute_result"
    }
   ],
   "source": [
    "# knn classifier\n",
    "from sklearn.neighbors import KNeighborsClassifier\n",
    "\n",
    "knn_clf = KNeighborsClassifier(n_neighbors=5)\n",
    "train_and_evaluate_model(X_train, y_train, X_test, y_test, knn_clf)"
   ]
  },
  {
   "cell_type": "markdown",
   "metadata": {},
   "source": [
    "#### Logistic Regression\n",
    "\n",
    "Logistic regression is a linear model used for binary classification, where it predicts the probability of a class by applying a logistic function to a weighted sum of the input features. The output is a probability that is converted into a class label based on a threshold (typically 0.5)."
   ]
  },
  {
   "cell_type": "code",
   "execution_count": 274,
   "metadata": {},
   "outputs": [
    {
     "name": "stdout",
     "output_type": "stream",
     "text": [
      "Cross-Validation Accuracy: 0.8636 ± 0.0011\n",
      "Training Accuracy: 0.8640\n",
      "Test Accuracy: 0.8604\n",
      "Precision: 0.8459\n",
      "Recall: 0.8604\n",
      "Execution time for train_and_evaluate_model: 23.8557 seconds\n"
     ]
    },
    {
     "data": {
      "text/plain": [
       "{'cv_accuracy': np.float64(0.8635914787425042),\n",
       " 'train_accuracy': 0.8640318550760916,\n",
       " 'test_accuracy': 0.8603797374471557,\n",
       " 'precision': np.float64(0.8458954372840481),\n",
       " 'recall': np.float64(0.8603797374471557)}"
      ]
     },
     "execution_count": 274,
     "metadata": {},
     "output_type": "execute_result"
    }
   ],
   "source": [
    "# logistic regression\n",
    "from sklearn.linear_model import LogisticRegression\n",
    "\n",
    "lr_clf = LogisticRegression(max_iter=1000, random_state=42)\n",
    "train_and_evaluate_model(X_train, y_train, X_test, y_test, lr_clf)"
   ]
  },
  {
   "cell_type": "markdown",
   "metadata": {},
   "source": [
    "#### Multi Layer Perceptron (MLP)"
   ]
  },
  {
   "cell_type": "code",
   "execution_count": 327,
   "metadata": {},
   "outputs": [
    {
     "name": "stdout",
     "output_type": "stream",
     "text": [
      "Cross-Validation Accuracy: 0.9769 ± 0.0010\n",
      "Training Accuracy: 0.9854\n",
      "Test Accuracy: 0.9784\n",
      "Precision: 0.9783\n",
      "Recall: 0.9784\n",
      "Execution time for train_and_evaluate_model: 251.4469 seconds\n"
     ]
    },
    {
     "data": {
      "text/plain": [
       "{'cv_accuracy': np.float64(0.9769338029395399),\n",
       " 'train_accuracy': 0.9854213890704455,\n",
       " 'test_accuracy': 0.9784358080545873,\n",
       " 'precision': np.float64(0.9782653214396126),\n",
       " 'recall': np.float64(0.9784358080545873)}"
      ]
     },
     "execution_count": 327,
     "metadata": {},
     "output_type": "execute_result"
    }
   ],
   "source": [
    "# MLP\n",
    "from sklearn.neural_network import MLPClassifier\n",
    "\n",
    "mlp_clf = MLPClassifier(max_iter=1000, random_state=42)\n",
    "train_and_evaluate_model(X_train, y_train, X_test, y_test, mlp_clf)"
   ]
  },
  {
   "cell_type": "markdown",
   "metadata": {},
   "source": [
    "#### Support Vector Machines (SVM)\n",
    "\n",
    "Specifically, we will use SVC (Support Vector Classifier), which is a supervised learning algorithm that finds the optimal hyperplane to separate data points of different classes. SVC works by maximizing the margin between the closest points of different classes (support vectors) and the decision boundary, aiming for a clear separation between them. It can also handle non-linearly separable data by using kernel functions to transform the feature space into higher dimensions where a linear separation is possible."
   ]
  },
  {
   "cell_type": "code",
   "execution_count": 329,
   "metadata": {},
   "outputs": [],
   "source": [
    "# SVC\n",
    "from sklearn.svm import SVC\n",
    "\n",
    "svc_clf = SVC(kernel='rbf', random_state=42)\n",
    "train_and_evaluate_model(X_train, y_train, X_test, y_test, svc_clf)"
   ]
  },
  {
   "cell_type": "markdown",
   "metadata": {},
   "source": [
    "#### RandomForestClassifier\n",
    "\n",
    "A Random Forest classifier is an ensemble learning method that builds multiple decision trees and merges their predictions to improve accuracy and control overfitting. Each tree is trained on a random subset of the data and features, and the final output is the mode of the predictions from all trees."
   ]
  },
  {
   "cell_type": "code",
   "execution_count": 275,
   "metadata": {},
   "outputs": [
    {
     "name": "stdout",
     "output_type": "stream",
     "text": [
      "Cross-Validation Accuracy: 0.8944 ± 0.0015\n",
      "Training Accuracy: 0.8959\n",
      "Test Accuracy: 0.8950\n",
      "Precision: 0.9022\n",
      "Recall: 0.8950\n",
      "Execution time for train_and_evaluate_model: 722.1767 seconds\n"
     ]
    },
    {
     "data": {
      "text/plain": [
       "{'cv_accuracy': np.float64(0.8944499388909956),\n",
       " 'train_accuracy': 0.8959332860513519,\n",
       " 'test_accuracy': 0.894978862271008,\n",
       " 'precision': np.float64(0.902164119569659),\n",
       " 'recall': np.float64(0.894978862271008)}"
      ]
     },
     "execution_count": 275,
     "metadata": {},
     "output_type": "execute_result"
    }
   ],
   "source": [
    "from sklearn.ensemble import RandomForestClassifier\n",
    "\n",
    "rf_clf = RandomForestClassifier(n_estimators=200, max_depth=5, random_state=42)\n",
    "train_and_evaluate_model(X_train, y_train, X_test, y_test, rf_clf)\n"
   ]
  },
  {
   "cell_type": "markdown",
   "metadata": {},
   "source": [
    "#### XGBoost\n",
    "\n",
    "XGBoost is a powerful gradient boosting algorithm that builds an ensemble of decision trees, where each new tree corrects the errors of the previous ones by minimizing a loss function. It uses techniques like regularization and early stopping to improve accuracy and prevent overfitting."
   ]
  },
  {
   "cell_type": "code",
   "execution_count": 276,
   "metadata": {},
   "outputs": [
    {
     "name": "stdout",
     "output_type": "stream",
     "text": [
      "Cross-Validation Accuracy: 0.9804 ± 0.0008\n",
      "Training Accuracy: 0.9874\n",
      "Test Accuracy: 0.9800\n",
      "Precision: 0.9800\n",
      "Recall: 0.9800\n",
      "Execution time for train_and_evaluate_model: 17.7345 seconds\n"
     ]
    },
    {
     "data": {
      "text/plain": [
       "{'cv_accuracy': np.float64(0.9803918898786584),\n",
       " 'train_accuracy': 0.9874378265122122,\n",
       " 'test_accuracy': 0.9799933249276868,\n",
       " 'precision': np.float64(0.9799652071203463),\n",
       " 'recall': np.float64(0.9799933249276868)}"
      ]
     },
     "execution_count": 276,
     "metadata": {},
     "output_type": "execute_result"
    }
   ],
   "source": [
    "# lets a heavy duty model like XGBoost\n",
    "from xgboost import XGBClassifier\n",
    "\n",
    "xgb_clf = XGBClassifier(n_estimators=250, max_depth=4, random_state=42)\n",
    "train_and_evaluate_model(X_train, y_train, X_test, y_test, xgb_clf)"
   ]
  },
  {
   "cell_type": "markdown",
   "metadata": {},
   "source": [
    "#### Custom GentleBoost classifier\n",
    "\n",
    "-> Like adaboost, weak learners"
   ]
  },
  {
   "cell_type": "code",
   "execution_count": 21,
   "metadata": {},
   "outputs": [
    {
     "name": "stdout",
     "output_type": "stream",
     "text": [
      "The autoreload extension is already loaded. To reload it, use:\n",
      "  %reload_ext autoreload\n"
     ]
    }
   ],
   "source": [
    "%load_ext autoreload\n",
    "%autoreload 2"
   ]
  },
  {
   "cell_type": "code",
   "execution_count": 22,
   "metadata": {},
   "outputs": [],
   "source": [
    "converted_y_train = np.where(y_train == 0, -1, 1)  # Convert binary labels to -1 and 1\n",
    "converted_y_test = np.where(y_test == 0, -1, 1)  # Convert binary labels to -1 and 1"
   ]
  },
  {
   "cell_type": "code",
   "execution_count": 27,
   "metadata": {},
   "outputs": [
    {
     "name": "stdout",
     "output_type": "stream",
     "text": [
      "Iteration 1/100, Training Loss: 0.497898\n",
      "Iteration 11/100, Training Loss: 0.484576\n",
      "Iteration 21/100, Training Loss: 0.477913\n",
      "Iteration 31/100, Training Loss: 0.473914\n",
      "Iteration 41/100, Training Loss: 0.471248\n",
      "Iteration 51/100, Training Loss: 0.469344\n",
      "Iteration 61/100, Training Loss: 0.467915\n",
      "Iteration 71/100, Training Loss: 0.466805\n",
      "Iteration 81/100, Training Loss: 0.465916\n",
      "Iteration 91/100, Training Loss: 0.465189\n",
      "Iteration 1/100, Training Loss: 0.497835\n",
      "Iteration 11/100, Training Loss: 0.464151\n",
      "Iteration 21/100, Training Loss: 0.447412\n",
      "Iteration 31/100, Training Loss: 0.446078\n",
      "Iteration 41/100, Training Loss: 0.445874\n",
      "Early stopping at iteration 42\n",
      "Iteration 1/100, Training Loss: 0.497884\n",
      "Iteration 11/100, Training Loss: 0.485272\n",
      "Iteration 21/100, Training Loss: 0.478959\n",
      "Iteration 31/100, Training Loss: 0.475170\n",
      "Iteration 41/100, Training Loss: 0.472643\n",
      "Iteration 51/100, Training Loss: 0.470838\n",
      "Iteration 61/100, Training Loss: 0.469484\n",
      "Iteration 71/100, Training Loss: 0.468431\n",
      "Iteration 81/100, Training Loss: 0.467589\n",
      "Iteration 91/100, Training Loss: 0.466900\n",
      "Iteration 1/100, Training Loss: 0.498238\n",
      "Iteration 11/100, Training Loss: 0.487751\n",
      "Iteration 21/100, Training Loss: 0.482078\n",
      "Iteration 31/100, Training Loss: 0.478649\n",
      "Iteration 41/100, Training Loss: 0.476353\n",
      "Iteration 51/100, Training Loss: 0.474707\n",
      "Iteration 61/100, Training Loss: 0.473470\n",
      "Iteration 71/100, Training Loss: 0.472505\n",
      "Iteration 81/100, Training Loss: 0.471732\n",
      "Iteration 91/100, Training Loss: 0.471099\n",
      "Iteration 1/100, Training Loss: 0.498279\n",
      "Iteration 11/100, Training Loss: 0.486989\n",
      "Iteration 21/100, Training Loss: 0.481551\n",
      "Iteration 31/100, Training Loss: 0.478423\n",
      "Iteration 41/100, Training Loss: 0.476352\n",
      "Iteration 51/100, Training Loss: 0.474881\n",
      "Iteration 61/100, Training Loss: 0.473783\n",
      "Iteration 71/100, Training Loss: 0.472931\n",
      "Iteration 81/100, Training Loss: 0.472252\n",
      "Iteration 91/100, Training Loss: 0.471698\n",
      "Cross-Validation Accuracy: 0.5404 ± 0.0117\n",
      "Iteration 1/100, Training Loss: 0.497979\n",
      "Iteration 11/100, Training Loss: 0.471931\n",
      "Iteration 21/100, Training Loss: 0.467227\n",
      "Iteration 31/100, Training Loss: 0.464867\n",
      "Iteration 41/100, Training Loss: 0.463503\n",
      "Iteration 51/100, Training Loss: 0.462637\n",
      "Iteration 61/100, Training Loss: 0.462049\n",
      "Iteration 71/100, Training Loss: 0.461630\n",
      "Iteration 81/100, Training Loss: 0.461318\n",
      "Iteration 91/100, Training Loss: 0.461080\n",
      "Training Accuracy: 0.5410\n",
      "Test Accuracy: 0.5281\n",
      "Precision: 0.8480\n",
      "Recall: 0.5281\n",
      "Execution time for train_and_evaluate_model: 149.9848 seconds\n"
     ]
    },
    {
     "data": {
      "text/plain": [
       "{'cv_accuracy': 0.5404000000000001,\n",
       " 'train_accuracy': 0.541,\n",
       " 'test_accuracy': 0.5281,\n",
       " 'precision': 0.8480385354179704,\n",
       " 'recall': 0.5281,\n",
       " 'execution_time': 149.98480892181396}"
      ]
     },
     "execution_count": 27,
     "metadata": {},
     "output_type": "execute_result"
    }
   ],
   "source": [
    "from gentleboost import GentleBoost\n",
    "\n",
    "model_params = {\n",
    "    'n_estimators': 100,\n",
    "    'learning_rate': 0.1,\n",
    "    'learning_rate_decay': 0.1,\n",
    "    'max_depth': 3,\n",
    "    'validation_fraction': 0.1,\n",
    "    'n_iter_no_change': 10,\n",
    "    'tol': 1e-4,\n",
    "    'verbose': 1,\n",
    "    'random_state': 42\n",
    "}\n",
    "\n",
    "gentleboost_clf = GentleBoost(**model_params)\n",
    "train_and_evaluate_model(X_train[:10000], converted_y_train[:10000], X_test[:10000], converted_y_test[:10000], gentleboost_clf)\n"
   ]
  },
  {
   "cell_type": "markdown",
   "metadata": {},
   "source": [
    "#### LightGBM \n",
    "\n",
    "Lets try LightGBM from Microsoft\n"
   ]
  },
  {
   "cell_type": "code",
   "execution_count": 33,
   "metadata": {},
   "outputs": [
    {
     "name": "stdout",
     "output_type": "stream",
     "text": [
      "[LightGBM] [Info] Number of positive: 36183, number of negative: 179544\n",
      "[LightGBM] [Info] Auto-choosing col-wise multi-threading, the overhead of testing was 0.028711 seconds.\n",
      "You can set `force_col_wise=true` to remove the overhead.\n",
      "[LightGBM] [Info] Total Bins 39502\n",
      "[LightGBM] [Info] Number of data points in the train set: 215727, number of used features: 159\n",
      "[LightGBM] [Info] [binary:BoostFromScore]: pavg=0.167726 -> initscore=-1.601831\n",
      "[LightGBM] [Info] Start training from score -1.601831\n",
      "Accuracy: 0.9329\n"
     ]
    }
   ],
   "source": [
    "import lightgbm as lgb\n",
    "from sklearn.metrics import accuracy_score\n",
    "\n",
    "# Create dataset for LightGBM\n",
    "train_data = lgb.Dataset(X_train, label=y_train)\n",
    "test_data = lgb.Dataset(X_test, label=y_test, reference=train_data)\n",
    "\n",
    "\n",
    "params = {\n",
    "    'objective': 'binary',          # or 'regression' if it's a regression task\n",
    "    'metric': 'binary_logloss',     # 'rmse' for regression\n",
    "    'boosting_type': 'gbdt',        # gradient boosting decision tree\n",
    "    'learning_rate': 0.01,          # small learning rate for gentle boosting effect\n",
    "    'num_leaves': 2,                # mimic simple weak learners (decision stumps)\n",
    "    'max_depth': 1,                 # restrict to shallow trees\n",
    "    'lambda_l1': 0.5,               # L1 regularization to reduce overfitting\n",
    "    'lambda_l2': 0.5,               # L2 regularization for added stability\n",
    "    'feature_fraction': 0.8,        # use 80% of features for added regularization\n",
    "    'bagging_fraction': 0.8,        # use 80% of data instances\n",
    "    'bagging_freq': 1               # bagging every iteration to simulate weak, varied learners\n",
    "}\n",
    "\n",
    "# Training with LightGBM\n",
    "bst = lgb.train(params, train_data, num_boost_round=10000, valid_sets=[test_data])\n",
    "\n",
    "# Predict and evaluate\n",
    "y_pred_proba = bst.predict(X_test, num_iteration=bst.best_iteration)\n",
    "y_pred = (y_pred_proba > 0.5).astype(int)\n",
    "accuracy = accuracy_score(y_test, y_pred)\n",
    "print(f'Accuracy: {accuracy:.4f}')"
   ]
  },
  {
   "cell_type": "markdown",
   "metadata": {},
   "source": [
    "#### Visualizing the results\n",
    "\n",
    "We can compare the metrics of different models"
   ]
  },
  {
   "cell_type": "code",
   "execution_count": 280,
   "metadata": {},
   "outputs": [],
   "source": [
    "import matplotlib.pyplot as plt\n",
    "import seaborn as sns\n"
   ]
  },
  {
   "cell_type": "code",
   "execution_count": 328,
   "metadata": {},
   "outputs": [
    {
     "data": {
      "image/png": "[encoded data removed]",
      "text/plain": [
       "<Figure size 1200x600 with 1 Axes>"
      ]
     },
     "metadata": {},
     "output_type": "display_data"
    }
   ],
   "source": [
    "def plot_accuracy_comparison(results_df, dummy_classifier_accuracy):\n",
    "    # Sort the DataFrame by 'Cross-Validation Accuracy' in descending order\n",
    "    sorted_results_df = results_df.sort_values(by='Cross-Validation Accuracy', ascending=False)\n",
    "    \n",
    "    sns.set(style=\"whitegrid\")\n",
    "    plt.figure(figsize=(12, 6))\n",
    "    ax = sns.barplot(x='Model', y='Cross-Validation Accuracy', data=sorted_results_df)\n",
    "    \n",
    "    # Add text labels on top of each bar\n",
    "    for p in ax.patches:\n",
    "        ax.annotate(f'{p.get_height():.2f}', \n",
    "                    (p.get_x() + p.get_width() / 2., p.get_height()), \n",
    "                    ha='center', va='baseline', \n",
    "                    fontsize=10, color='black', \n",
    "                    xytext=(0, 5), \n",
    "                    textcoords='offset points')\n",
    "    \n",
    "    plt.axhline(y=dummy_classifier_accuracy, color='red', linestyle='dotted', label='Dummy Classifier Accuracy')\n",
    "    plt.title('Cross-Validation Accuracy Comparison') \n",
    "    plt.xlabel('Model')\n",
    "    plt.ylabel('Cross-Validation Accuracy')\n",
    "    plt.ylim(min(results_df['Cross-Validation Accuracy'] - 0.05), 1.05)\n",
    "    plt.legend()\n",
    "    plt.xticks(rotation=45)\n",
    "    plt.tight_layout()\n",
    "    plt.show()\n",
    "\n",
    "plot_accuracy_comparison(results_df, results_df.loc[0]['Cross-Validation Accuracy'])"
   ]
  }
 ],
 "metadata": {
  "kernelspec": {
   "display_name": "Python 3",
   "language": "python",
   "name": "python3"
  },
  "language_info": {
   "codemirror_mode": {
    "name": "ipython",
    "version": 3
   },
   "file_extension": ".py",
   "mimetype": "text/x-python",
   "name": "python",
   "nbconvert_exporter": "python",
   "pygments_lexer": "ipython3",
   "version": "3.10.0"
  }
 },
 "nbformat": 4,
 "nbformat_minor": 2
}
